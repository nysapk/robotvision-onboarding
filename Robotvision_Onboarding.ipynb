{
  "nbformat": 4,
  "nbformat_minor": 0,
  "metadata": {
    "colab": {
      "provenance": [],
      "authorship_tag": "ABX9TyPq6qFDUqo/3JJUpbCXOcQ9",
      "include_colab_link": true
    },
    "kernelspec": {
      "name": "python3",
      "display_name": "Python 3"
    },
    "language_info": {
      "name": "python"
    }
  },
  "cells": [
    {
      "cell_type": "markdown",
      "metadata": {
        "id": "view-in-github",
        "colab_type": "text"
      },
      "source": [
        "<a href=\"https://colab.research.google.com/github/nysapk/robotvision-onboarding/blob/main/Robotvision_Onboarding.ipynb\" target=\"_parent\"><img src=\"https://colab.research.google.com/assets/colab-badge.svg\" alt=\"Open In Colab\"/></a>"
      ]
    },
    {
      "cell_type": "code",
      "execution_count": null,
      "metadata": {
        "id": "2lJC4UW-3d4I"
      },
      "outputs": [],
      "source": [
        "!mkdir -p /data/sets/nuscenes\n",
        "\n",
        "!wget https://www.nuscenes.org/data/v1.0-mini.tgz\n",
        "\n",
        "!tar -xf v1.0-mini.tgz -C /data/sets/nuscenes\n",
        "\n",
        "!pip install \"numpy<2\" --upgrade\n",
        "!pip install nuscenes-devkit --upgrade"
      ]
    },
    {
      "cell_type": "code",
      "source": [
        "from nuscenes.nuscenes import NuScenes\n",
        "import matplotlib.pyplot as plt\n",
        "\n",
        "dataroot = '/data/sets/nuscenes'\n",
        "\n",
        "# load mini dataset\n",
        "nusc = NuScenes(version='v1.0-mini', dataroot=dataroot, verbose=True)"
      ],
      "metadata": {
        "id": "K3pIqQfQ34Sv"
      },
      "execution_count": null,
      "outputs": []
    },
    {
      "cell_type": "code",
      "source": [
        "# look at available scenes\n",
        "print(\"Number of scenes:\", len(nusc.scene))\n",
        "print(\"First scene info:\", nusc.scene[0])\n"
      ],
      "metadata": {
        "id": "4dg_HcyiDx5x"
      },
      "execution_count": null,
      "outputs": []
    },
    {
      "cell_type": "code",
      "source": [
        "scene = nusc.scene[0]\n",
        "sample = nusc.get('sample', scene['first_sample_token'])\n",
        "\n",
        "cam_token = sample['data']['CAM_FRONT']\n",
        "\n",
        "# show image with annotations\n",
        "nusc.render_sample_data(cam_token, with_anns=True, axes_limit=40)"
      ],
      "metadata": {
        "id": "fL6jh4EiD1hE"
      },
      "execution_count": null,
      "outputs": []
    },
    {
      "cell_type": "code",
      "source": [
        "lidar_token = sample['data']['LIDAR_TOP']\n",
        "nusc.render_sample_data(lidar_token, with_anns=True, axes_limit=40)"
      ],
      "metadata": {
        "id": "5IoiQMhnD5qN"
      },
      "execution_count": null,
      "outputs": []
    },
    {
      "cell_type": "code",
      "source": [
        "scene = nusc.scene[0]\n",
        "sample_token = scene['first_sample_token']\n",
        "\n",
        "while sample_token != \"\":\n",
        "    sample = nusc.get('sample', sample_token)\n",
        "    cam_token = sample['data']['CAM_FRONT']\n",
        "\n",
        "    nusc.render_sample_data(cam_token, with_anns=True, axes_limit=40)\n",
        "\n",
        "    sample_token = sample['next']"
      ],
      "metadata": {
        "id": "WzXdF0WwOGbm"
      },
      "execution_count": null,
      "outputs": []
    }
  ]
}